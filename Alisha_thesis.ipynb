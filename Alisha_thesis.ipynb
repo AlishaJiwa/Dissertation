{
 "cells": [
  {
   "cell_type": "code",
   "execution_count": 1,
   "metadata": {
    "scrolled": true
   },
   "outputs": [],
   "source": [
    "import pandas as pd\n",
    "import numpy as np\n",
    "import altair as alt\n",
    "import os\n",
    "from altair_saver import save\n",
    "files = os.listdir()"
   ]
  },
  {
   "cell_type": "code",
   "execution_count": 2,
   "metadata": {},
   "outputs": [],
   "source": [
    "def prep_df(df,name):\n",
    "    df = df.stack().reset_index()\n",
    "    df.columns = ['c1','c2','values']\n",
    "    df['LC stage'] = name\n",
    "    return df"
   ]
  },
  {
   "cell_type": "code",
   "execution_count": 34,
   "metadata": {
    "scrolled": false
   },
   "outputs": [
    {
     "name": "stderr",
     "output_type": "stream",
     "text": [
      "<ipython-input-34-2d0c8f9666a3>:8: ParserWarning: Falling back to the 'python' engine because the 'c' engine does not support skipfooter; you can avoid this warning by specifying engine='python'.\n",
      "  df1 = pd.read_csv(file, index_col='P&M', skipfooter = 18)\n",
      "<ipython-input-34-2d0c8f9666a3>:10: ParserWarning: Falling back to the 'python' engine because the 'c' engine does not support skipfooter; you can avoid this warning by specifying engine='python'.\n",
      "  df2 = pd.read_csv(file, index_col = 'use', skiprows = 6, skipfooter = 12)\n",
      "<ipython-input-34-2d0c8f9666a3>:12: ParserWarning: Falling back to the 'python' engine because the 'c' engine does not support skipfooter; you can avoid this warning by specifying engine='python'.\n",
      "  df3 = pd.read_csv(file, index_col = 'distribution', skiprows = 12, skipfooter = 6)\n"
     ]
    }
   ],
   "source": [
    "filelist = []\n",
    "for file in files:\n",
    "    if(file[-3:] == 'csv'):\n",
    "        filelist.append(file)\n",
    "chartlist = []\n",
    "for file in filelist:\n",
    "    productname = file[:-4]    \n",
    "    df1 = pd.read_csv(file, index_col='P&M', skipfooter = 18)\n",
    "    pm = df1.transpose()\n",
    "    df2 = pd.read_csv(file, index_col = 'use', skiprows = 6, skipfooter = 12)\n",
    "    use = df2.transpose()\n",
    "    df3 = pd.read_csv(file, index_col = 'distribution', skiprows = 12, skipfooter = 6)\n",
    "    dis = df3.transpose()\n",
    "    df4 = pd.read_csv(file, index_col = 'eol', skiprows = 18)\n",
    "    eol = df4.transpose()\n",
    "    pm = prep_df(pm, 'D_P&M' )\n",
    "    use = prep_df(use, 'C_Use' )\n",
    "    dis = prep_df(dis, 'B_dis' )\n",
    "    eol = prep_df(eol, 'A_Eol' )\n",
    "    df = pd.concat(([pm,use,dis,eol]),axis = 0)\n",
    "    \n",
    "    chart = alt.Chart(df).mark_bar().encode(\n",
    "    \n",
    "    # tell Altair which field to group columns on\n",
    "    x=alt.X('c2:N', title=None),\n",
    "    \n",
    "    # tell Altair which field to use as Y values and how to calculate\n",
    "    y=alt.Y('sum(values):Q',\n",
    "        axis=alt.Axis(\n",
    "            grid=False,\n",
    "            title='Emissions (kgCO2e)')),\n",
    "    \n",
    "    # tell Altair which field to use to use as the set of columns to be  represented in each group\n",
    "    column=alt.Column('c1:N', title= productname + ' Country Trend Every 5 Years'),\n",
    "    \n",
    "    # tell Altair which field to use for color segmentation \n",
    "    color=alt.Color('LC stage:N',\n",
    "            scale=alt.Scale(\n",
    "                # make it look pretty with an enjoyable color pallet\n",
    "                range=['#00171F', '#003459',\"#007EA7\",'#00A8E8'],\n",
    "            ),\n",
    "        ))\\\n",
    "    .configure_view(\n",
    "        # remove grid lines around column clusters\n",
    "        strokeOpacity=0    \n",
    "    ).configure_axis(\n",
    "    labelFontSize=14,\n",
    "    titleFontSize=14).configure_legend(labelFontSize = 14).configure_header(titleFontSize=20)\n",
    "    chartlist.append(chart)\n",
    "    #chart.save('chartname.png', scale_factor=2.0)\n"
   ]
  },
  {
   "cell_type": "code",
   "execution_count": 35,
   "metadata": {
    "scrolled": true
   },
   "outputs": [
    {
     "data": {
      "text/html": [
       "\n",
       "<div id=\"altair-viz-1696096fe55b491197cbffc72f1e99e8\"></div>\n",
       "<script type=\"text/javascript\">\n",
       "  (function(spec, embedOpt){\n",
       "    let outputDiv = document.currentScript.previousElementSibling;\n",
       "    if (outputDiv.id !== \"altair-viz-1696096fe55b491197cbffc72f1e99e8\") {\n",
       "      outputDiv = document.getElementById(\"altair-viz-1696096fe55b491197cbffc72f1e99e8\");\n",
       "    }\n",
       "    const paths = {\n",
       "      \"vega\": \"https://cdn.jsdelivr.net/npm//vega@5?noext\",\n",
       "      \"vega-lib\": \"https://cdn.jsdelivr.net/npm//vega-lib?noext\",\n",
       "      \"vega-lite\": \"https://cdn.jsdelivr.net/npm//vega-lite@4.8.1?noext\",\n",
       "      \"vega-embed\": \"https://cdn.jsdelivr.net/npm//vega-embed@6?noext\",\n",
       "    };\n",
       "\n",
       "    function loadScript(lib) {\n",
       "      return new Promise(function(resolve, reject) {\n",
       "        var s = document.createElement('script');\n",
       "        s.src = paths[lib];\n",
       "        s.async = true;\n",
       "        s.onload = () => resolve(paths[lib]);\n",
       "        s.onerror = () => reject(`Error loading script: ${paths[lib]}`);\n",
       "        document.getElementsByTagName(\"head\")[0].appendChild(s);\n",
       "      });\n",
       "    }\n",
       "\n",
       "    function showError(err) {\n",
       "      outputDiv.innerHTML = `<div class=\"error\" style=\"color:red;\">${err}</div>`;\n",
       "      throw err;\n",
       "    }\n",
       "\n",
       "    function displayChart(vegaEmbed) {\n",
       "      vegaEmbed(outputDiv, spec, embedOpt)\n",
       "        .catch(err => showError(`Javascript Error: ${err.message}<br>This usually means there's a typo in your chart specification. See the javascript console for the full traceback.`));\n",
       "    }\n",
       "\n",
       "    if(typeof define === \"function\" && define.amd) {\n",
       "      requirejs.config({paths});\n",
       "      require([\"vega-embed\"], displayChart, err => showError(`Error loading script: ${err.message}`));\n",
       "    } else if (typeof vegaEmbed === \"function\") {\n",
       "      displayChart(vegaEmbed);\n",
       "    } else {\n",
       "      loadScript(\"vega\")\n",
       "        .then(() => loadScript(\"vega-lite\"))\n",
       "        .then(() => loadScript(\"vega-embed\"))\n",
       "        .catch(showError)\n",
       "        .then(() => displayChart(vegaEmbed));\n",
       "    }\n",
       "  })({\"config\": {\"view\": {\"continuousWidth\": 400, \"continuousHeight\": 300, \"strokeOpacity\": 0}, \"axis\": {\"labelFontSize\": 14, \"titleFontSize\": 14}, \"header\": {\"titleFontSize\": 20}, \"legend\": {\"labelFontSize\": 14}}, \"data\": {\"name\": \"data-ba3ff897d22375044072e2d6dc126c92\"}, \"mark\": \"bar\", \"encoding\": {\"color\": {\"type\": \"nominal\", \"field\": \"LC stage\", \"scale\": {\"range\": [\"#00171F\", \"#003459\", \"#007EA7\", \"#00A8E8\"]}}, \"column\": {\"type\": \"nominal\", \"field\": \"c1\", \"title\": \"Sony XperiaTM T Country Trend Every 5 Years\"}, \"x\": {\"type\": \"nominal\", \"field\": \"c2\", \"title\": null}, \"y\": {\"type\": \"quantitative\", \"aggregate\": \"sum\", \"axis\": {\"grid\": false, \"title\": \"Emissions (kgCO2e)\"}, \"field\": \"values\"}}, \"$schema\": \"https://vega.github.io/schema/vega-lite/v4.8.1.json\", \"datasets\": {\"data-ba3ff897d22375044072e2d6dc126c92\": [{\"c1\": \"2020\", \"c2\": \"India\", \"values\": 18.37935, \"LC stage\": \"D_P&M\"}, {\"c1\": \"2020\", \"c2\": \"China\", \"values\": 18.37935, \"LC stage\": \"D_P&M\"}, {\"c1\": \"2020\", \"c2\": \"US\", \"values\": 18.37935, \"LC stage\": \"D_P&M\"}, {\"c1\": \"2020\", \"c2\": \"EU\", \"values\": 18.37935, \"LC stage\": \"D_P&M\"}, {\"c1\": \"2025\", \"c2\": \"India\", \"values\": 15.1534571896552, \"LC stage\": \"D_P&M\"}, {\"c1\": \"2025\", \"c2\": \"China\", \"values\": 15.1534571896552, \"LC stage\": \"D_P&M\"}, {\"c1\": \"2025\", \"c2\": \"US\", \"values\": 15.1534571896552, \"LC stage\": \"D_P&M\"}, {\"c1\": \"2025\", \"c2\": \"EU\", \"values\": 15.1534571896552, \"LC stage\": \"D_P&M\"}, {\"c1\": \"2030\", \"c2\": \"India\", \"values\": 10.777587462931, \"LC stage\": \"D_P&M\"}, {\"c1\": \"2030\", \"c2\": \"China\", \"values\": 10.777587462931, \"LC stage\": \"D_P&M\"}, {\"c1\": \"2030\", \"c2\": \"US\", \"values\": 10.777587462931, \"LC stage\": \"D_P&M\"}, {\"c1\": \"2030\", \"c2\": \"EU\", \"values\": 10.777587462931, \"LC stage\": \"D_P&M\"}, {\"c1\": \"2035\", \"c2\": \"India\", \"values\": 6.588363204310349, \"LC stage\": \"D_P&M\"}, {\"c1\": \"2035\", \"c2\": \"China\", \"values\": 6.588363204310349, \"LC stage\": \"D_P&M\"}, {\"c1\": \"2035\", \"c2\": \"US\", \"values\": 6.588363204310349, \"LC stage\": \"D_P&M\"}, {\"c1\": \"2035\", \"c2\": \"EU\", \"values\": 6.588363204310349, \"LC stage\": \"D_P&M\"}, {\"c1\": \"2040\", \"c2\": \"India\", \"values\": 3.1856483715517205, \"LC stage\": \"D_P&M\"}, {\"c1\": \"2040\", \"c2\": \"China\", \"values\": 3.1856483715517205, \"LC stage\": \"D_P&M\"}, {\"c1\": \"2040\", \"c2\": \"US\", \"values\": 3.1856483715517205, \"LC stage\": \"D_P&M\"}, {\"c1\": \"2040\", \"c2\": \"EU\", \"values\": 3.1856483715517205, \"LC stage\": \"D_P&M\"}, {\"c1\": \"2020\", \"c2\": \"India\", \"values\": 7.22246808510638, \"LC stage\": \"C_Use\"}, {\"c1\": \"2020\", \"c2\": \"China\", \"values\": 5.92340425531915, \"LC stage\": \"C_Use\"}, {\"c1\": \"2020\", \"c2\": \"US\", \"values\": 3.6, \"LC stage\": \"C_Use\"}, {\"c1\": \"2020\", \"c2\": \"EU\", \"values\": 2.20289361702128, \"LC stage\": \"C_Use\"}, {\"c1\": \"2025\", \"c2\": \"India\", \"values\": 5.13732765957447, \"LC stage\": \"C_Use\"}, {\"c1\": \"2025\", \"c2\": \"China\", \"values\": 4.883744680851059, \"LC stage\": \"C_Use\"}, {\"c1\": \"2025\", \"c2\": \"US\", \"values\": 2.6860595744680897, \"LC stage\": \"C_Use\"}, {\"c1\": \"2025\", \"c2\": \"EU\", \"values\": 1.40262127659574, \"LC stage\": \"C_Use\"}, {\"c1\": \"2030\", \"c2\": \"India\", \"values\": 3.57211914893617, \"LC stage\": \"C_Use\"}, {\"c1\": \"2030\", \"c2\": \"China\", \"values\": 3.47346382978723, \"LC stage\": \"C_Use\"}, {\"c1\": \"2030\", \"c2\": \"US\", \"values\": 1.66243404255319, \"LC stage\": \"C_Use\"}, {\"c1\": \"2030\", \"c2\": \"EU\", \"values\": 0.7369531914893621, \"LC stage\": \"C_Use\"}, {\"c1\": \"2035\", \"c2\": \"India\", \"values\": 2.19329361702128, \"LC stage\": \"C_Use\"}, {\"c1\": \"2035\", \"c2\": \"China\", \"values\": 2.12333617021277, \"LC stage\": \"C_Use\"}, {\"c1\": \"2035\", \"c2\": \"US\", \"values\": 0.954485106382979, \"LC stage\": \"C_Use\"}, {\"c1\": \"2035\", \"c2\": \"EU\", \"values\": 0.527387234042553, \"LC stage\": \"C_Use\"}, {\"c1\": \"2040\", \"c2\": \"India\", \"values\": 1.10073191489362, \"LC stage\": \"C_Use\"}, {\"c1\": \"2040\", \"c2\": \"China\", \"values\": 1.02668936170213, \"LC stage\": \"C_Use\"}, {\"c1\": \"2040\", \"c2\": \"US\", \"values\": 0.46161702127659604, \"LC stage\": \"C_Use\"}, {\"c1\": \"2040\", \"c2\": \"EU\", \"values\": 0.32936170212765997, \"LC stage\": \"C_Use\"}, {\"c1\": \"2020\", \"c2\": \"India\", \"values\": 0.060355862068965996, \"LC stage\": \"B_dis\"}, {\"c1\": \"2020\", \"c2\": \"China\", \"values\": 0.0495, \"LC stage\": \"B_dis\"}, {\"c1\": \"2020\", \"c2\": \"US\", \"values\": 0.030084051724137993, \"LC stage\": \"B_dis\"}, {\"c1\": \"2020\", \"c2\": \"EU\", \"values\": 0.018408879310345, \"LC stage\": \"B_dis\"}, {\"c1\": \"2025\", \"c2\": \"India\", \"values\": 0.10414046424090302, \"LC stage\": \"B_dis\"}, {\"c1\": \"2025\", \"c2\": \"China\", \"values\": 0.099, \"LC stage\": \"B_dis\"}, {\"c1\": \"2025\", \"c2\": \"US\", \"values\": 0.05445, \"LC stage\": \"B_dis\"}, {\"c1\": \"2025\", \"c2\": \"EU\", \"values\": 0.028432998745295, \"LC stage\": \"B_dis\"}, {\"c1\": \"2030\", \"c2\": \"India\", \"values\": 0.407247419952368, \"LC stage\": \"B_dis\"}, {\"c1\": \"2030\", \"c2\": \"China\", \"values\": 0.396, \"LC stage\": \"B_dis\"}, {\"c1\": \"2030\", \"c2\": \"US\", \"values\": 0.18952950516009498, \"LC stage\": \"B_dis\"}, {\"c1\": \"2030\", \"c2\": \"EU\", \"values\": 0.084017994178354, \"LC stage\": \"B_dis\"}, {\"c1\": \"2035\", \"c2\": \"India\", \"values\": 0.9714866047809151, \"LC stage\": \"B_dis\"}, {\"c1\": \"2035\", \"c2\": \"China\", \"values\": 0.9405, \"LC stage\": \"B_dis\"}, {\"c1\": \"2035\", \"c2\": \"US\", \"values\": 0.42277490260208705, \"LC stage\": \"B_dis\"}, {\"c1\": \"2035\", \"c2\": \"EU\", \"values\": 0.233598287720648, \"LC stage\": \"B_dis\"}, {\"c1\": \"2040\", \"c2\": \"India\", \"values\": 1.64516472694718, \"LC stage\": \"B_dis\"}, {\"c1\": \"2040\", \"c2\": \"China\", \"values\": 1.5345, \"LC stage\": \"B_dis\"}, {\"c1\": \"2040\", \"c2\": \"US\", \"values\": 0.68993733213966, \"LC stage\": \"B_dis\"}, {\"c1\": \"2040\", \"c2\": \"EU\", \"values\": 0.492267233661593, \"LC stage\": \"B_dis\"}, {\"c1\": \"2020\", \"c2\": \"India\", \"values\": 0.018056170212766003, \"LC stage\": \"A_Eol\"}, {\"c1\": \"2020\", \"c2\": \"China\", \"values\": 0.014808510638298002, \"LC stage\": \"A_Eol\"}, {\"c1\": \"2020\", \"c2\": \"US\", \"values\": 0.009000000000000001, \"LC stage\": \"A_Eol\"}, {\"c1\": \"2020\", \"c2\": \"EU\", \"values\": 0.005507234042553001, \"LC stage\": \"A_Eol\"}, {\"c1\": \"2025\", \"c2\": \"India\", \"values\": 0.034426599749059, \"LC stage\": \"A_Eol\"}, {\"c1\": \"2025\", \"c2\": \"China\", \"values\": 0.032727272727273, \"LC stage\": \"A_Eol\"}, {\"c1\": \"2025\", \"c2\": \"US\", \"values\": 0.018000000000000002, \"LC stage\": \"A_Eol\"}, {\"c1\": \"2025\", \"c2\": \"EU\", \"values\": 0.009399338428196999, \"LC stage\": \"A_Eol\"}, {\"c1\": \"2030\", \"c2\": \"India\", \"values\": 0.154708440840398, \"LC stage\": \"A_Eol\"}, {\"c1\": \"2030\", \"c2\": \"China\", \"values\": 0.150435680058975, \"LC stage\": \"A_Eol\"}, {\"c1\": \"2030\", \"c2\": \"US\", \"values\": 0.07200000000000001, \"LC stage\": \"A_Eol\"}, {\"c1\": \"2030\", \"c2\": \"EU\", \"values\": 0.031917434574272006, \"LC stage\": \"A_Eol\"}, {\"c1\": \"2035\", \"c2\": \"India\", \"values\": 0.39293772736999805, \"LC stage\": \"A_Eol\"}, {\"c1\": \"2035\", \"c2\": \"China\", \"values\": 0.38040455809972207, \"LC stage\": \"A_Eol\"}, {\"c1\": \"2035\", \"c2\": \"US\", \"values\": 0.171, \"LC stage\": \"A_Eol\"}, {\"c1\": \"2035\", \"c2\": \"EU\", \"values\": 0.09448362936015402, \"LC stage\": \"A_Eol\"}, {\"c1\": \"2040\", \"c2\": \"India\", \"values\": 0.665279203539823, \"LC stage\": \"A_Eol\"}, {\"c1\": \"2040\", \"c2\": \"China\", \"values\": 0.6205280973451329, \"LC stage\": \"A_Eol\"}, {\"c1\": \"2040\", \"c2\": \"US\", \"values\": 0.27899999999999997, \"LC stage\": \"A_Eol\"}, {\"c1\": \"2040\", \"c2\": \"EU\", \"values\": 0.199065265486726, \"LC stage\": \"A_Eol\"}]}}, {\"mode\": \"vega-lite\"});\n",
       "</script>"
      ],
      "text/plain": [
       "alt.Chart(...)"
      ]
     },
     "execution_count": 35,
     "metadata": {},
     "output_type": "execute_result"
    }
   ],
   "source": [
    "chartlist[7]"
   ]
  },
  {
   "cell_type": "code",
   "execution_count": null,
   "metadata": {},
   "outputs": [],
   "source": []
  },
  {
   "cell_type": "code",
   "execution_count": null,
   "metadata": {},
   "outputs": [],
   "source": []
  }
 ],
 "metadata": {
  "kernelspec": {
   "display_name": "Python 3",
   "language": "python",
   "name": "python3"
  },
  "language_info": {
   "codemirror_mode": {
    "name": "ipython",
    "version": 3
   },
   "file_extension": ".py",
   "mimetype": "text/x-python",
   "name": "python",
   "nbconvert_exporter": "python",
   "pygments_lexer": "ipython3",
   "version": "3.8.5"
  }
 },
 "nbformat": 4,
 "nbformat_minor": 4
}
